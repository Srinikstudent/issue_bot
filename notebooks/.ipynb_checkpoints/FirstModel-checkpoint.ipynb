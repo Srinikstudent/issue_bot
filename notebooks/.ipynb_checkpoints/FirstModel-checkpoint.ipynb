{
 "cells": [
  {
   "cell_type": "code",
   "execution_count": 1,
   "id": "7baddc5b-794e-4b26-b6c0-fbed412462d2",
   "metadata": {},
   "outputs": [],
   "source": [
    "%matplotlib inline\n",
    "\n",
    "import pandas as pd\n",
    "import numpy as np\n",
    "\n",
    "from sklearn.feature_extraction.text import CountVectorizer\n",
    "from sklearn.feature_extraction.text import TfidfTransformer\n",
    "from sklearn.ensemble import RandomForestClassifier\n",
    "from sklearn.model_selection import train_test_split\n",
    "from sklearn.model_selection import StratifiedKFold, RepeatedKFold\n",
    "from sklearn.model_selection import cross_val_score\n",
    "\n",
    "from sklearn.pipeline import Pipeline\n",
    "\n",
    "RANDOM_SEED = 42"
   ]
  },
  {
   "cell_type": "code",
   "execution_count": 2,
   "id": "35101a68-9f0f-4aab-99d6-64e3fa3e932d",
   "metadata": {},
   "outputs": [],
   "source": [
    "df = pd.read_csv('./data/sample1.csv.gz')"
   ]
  },
  {
   "cell_type": "code",
   "execution_count": 3,
   "id": "ea13a23b-4e5d-4013-9ed0-ea9947ac74a0",
   "metadata": {},
   "outputs": [
    {
     "data": {
      "text/html": [
       "<div>\n",
       "<style scoped>\n",
       "    .dataframe tbody tr th:only-of-type {\n",
       "        vertical-align: middle;\n",
       "    }\n",
       "\n",
       "    .dataframe tbody tr th {\n",
       "        vertical-align: top;\n",
       "    }\n",
       "\n",
       "    .dataframe thead th {\n",
       "        text-align: right;\n",
       "    }\n",
       "</style>\n",
       "<table border=\"1\" class=\"dataframe\">\n",
       "  <thead>\n",
       "    <tr style=\"text-align: right;\">\n",
       "      <th></th>\n",
       "      <th>issue_url</th>\n",
       "      <th>issue_label</th>\n",
       "      <th>issue_created_at</th>\n",
       "      <th>issue_author_association</th>\n",
       "      <th>repository_url</th>\n",
       "      <th>issue_title</th>\n",
       "      <th>issue_body</th>\n",
       "    </tr>\n",
       "  </thead>\n",
       "  <tbody>\n",
       "    <tr>\n",
       "      <th>0</th>\n",
       "      <td>https://api.github.com/repos/deepnight/ldtk/is...</td>\n",
       "      <td>bug</td>\n",
       "      <td>2021-03-10T01:39:16Z</td>\n",
       "      <td>CONTRIBUTOR</td>\n",
       "      <td>https://api.github.com/repos/deepnight/ldtk</td>\n",
       "      <td>__tileSrcRect is null in Entities.ldtk Sample ...</td>\n",
       "      <td>In the Entities example, we there are some `__...</td>\n",
       "    </tr>\n",
       "    <tr>\n",
       "      <th>1</th>\n",
       "      <td>https://api.github.com/repos/sef-global/sef-si...</td>\n",
       "      <td>bug</td>\n",
       "      <td>2021-01-30T13:51:30Z</td>\n",
       "      <td>COLLABORATOR</td>\n",
       "      <td>https://api.github.com/repos/sef-global/sef-site</td>\n",
       "      <td>Update the blog link in the SEF Site</td>\n",
       "      <td>**Describe the bug**\\r\\nUpdate the blog link i...</td>\n",
       "    </tr>\n",
       "    <tr>\n",
       "      <th>2</th>\n",
       "      <td>https://api.github.com/repos/cherry-script/che...</td>\n",
       "      <td>bug</td>\n",
       "      <td>2021-04-07T13:38:24Z</td>\n",
       "      <td>CONTRIBUTOR</td>\n",
       "      <td>https://api.github.com/repos/cherry-script/che...</td>\n",
       "      <td>🐛 Parser cannot properly distinguish between p...</td>\n",
       "      <td>Consider these two expressions:\\r\\n```\\r\\nf (g...</td>\n",
       "    </tr>\n",
       "    <tr>\n",
       "      <th>3</th>\n",
       "      <td>https://api.github.com/repos/IgniteUI/igniteui...</td>\n",
       "      <td>bug</td>\n",
       "      <td>2020-10-16T15:41:48Z</td>\n",
       "      <td>CONTRIBUTOR</td>\n",
       "      <td>https://api.github.com/repos/IgniteUI/igniteui...</td>\n",
       "      <td>\"Row added\" snackbar is not visible if the gri...</td>\n",
       "      <td>## Description  \\r\\nWhen grid has no height an...</td>\n",
       "    </tr>\n",
       "    <tr>\n",
       "      <th>4</th>\n",
       "      <td>https://api.github.com/repos/OpenSIPS/opensips...</td>\n",
       "      <td>bug</td>\n",
       "      <td>2020-09-21T21:22:05Z</td>\n",
       "      <td>NONE</td>\n",
       "      <td>https://api.github.com/repos/OpenSIPS/opensips</td>\n",
       "      <td>[CRASH]  _tcp_write_on_socket crashes when flu...</td>\n",
       "      <td>&lt;!--\\r\\nThank you for reporting a crash in Ope...</td>\n",
       "    </tr>\n",
       "  </tbody>\n",
       "</table>\n",
       "</div>"
      ],
      "text/plain": [
       "                                           issue_url issue_label  \\\n",
       "0  https://api.github.com/repos/deepnight/ldtk/is...         bug   \n",
       "1  https://api.github.com/repos/sef-global/sef-si...         bug   \n",
       "2  https://api.github.com/repos/cherry-script/che...         bug   \n",
       "3  https://api.github.com/repos/IgniteUI/igniteui...         bug   \n",
       "4  https://api.github.com/repos/OpenSIPS/opensips...         bug   \n",
       "\n",
       "       issue_created_at issue_author_association  \\\n",
       "0  2021-03-10T01:39:16Z              CONTRIBUTOR   \n",
       "1  2021-01-30T13:51:30Z             COLLABORATOR   \n",
       "2  2021-04-07T13:38:24Z              CONTRIBUTOR   \n",
       "3  2020-10-16T15:41:48Z              CONTRIBUTOR   \n",
       "4  2020-09-21T21:22:05Z                     NONE   \n",
       "\n",
       "                                      repository_url  \\\n",
       "0        https://api.github.com/repos/deepnight/ldtk   \n",
       "1   https://api.github.com/repos/sef-global/sef-site   \n",
       "2  https://api.github.com/repos/cherry-script/che...   \n",
       "3  https://api.github.com/repos/IgniteUI/igniteui...   \n",
       "4     https://api.github.com/repos/OpenSIPS/opensips   \n",
       "\n",
       "                                         issue_title  \\\n",
       "0  __tileSrcRect is null in Entities.ldtk Sample ...   \n",
       "1               Update the blog link in the SEF Site   \n",
       "2  🐛 Parser cannot properly distinguish between p...   \n",
       "3  \"Row added\" snackbar is not visible if the gri...   \n",
       "4  [CRASH]  _tcp_write_on_socket crashes when flu...   \n",
       "\n",
       "                                          issue_body  \n",
       "0  In the Entities example, we there are some `__...  \n",
       "1  **Describe the bug**\\r\\nUpdate the blog link i...  \n",
       "2  Consider these two expressions:\\r\\n```\\r\\nf (g...  \n",
       "3  ## Description  \\r\\nWhen grid has no height an...  \n",
       "4  <!--\\r\\nThank you for reporting a crash in Ope...  "
      ]
     },
     "execution_count": 3,
     "metadata": {},
     "output_type": "execute_result"
    }
   ],
   "source": [
    "df.head()"
   ]
  },
  {
   "cell_type": "code",
   "execution_count": 4,
   "id": "bf6fd2ed-0844-45ba-89cd-8e13c8d6db1e",
   "metadata": {},
   "outputs": [
    {
     "name": "stdout",
     "output_type": "stream",
     "text": [
      "72289 instances\n"
     ]
    }
   ],
   "source": [
    "print(len(df), 'instances')"
   ]
  },
  {
   "cell_type": "code",
   "execution_count": 5,
   "id": "9c7acfd4-0420-42c9-9738-d24bc0ddd824",
   "metadata": {},
   "outputs": [],
   "source": [
    "df['full_text'] = df['issue_title'] + \"_\" + df['issue_body']"
   ]
  },
  {
   "cell_type": "code",
   "execution_count": 6,
   "id": "9045d717-acf9-4e44-bf61-7c0f8f7b23d9",
   "metadata": {},
   "outputs": [],
   "source": [
    "tmp = df.dropna().groupby('issue_label').apply(lambda x: x.sample(frac=.20)).copy().drop(columns=['issue_label'], axis=1).reset_index()"
   ]
  },
  {
   "cell_type": "code",
   "execution_count": 7,
   "id": "3a22df22-d0d9-49e3-94d2-c1fe6074163d",
   "metadata": {},
   "outputs": [
    {
     "data": {
      "text/html": [
       "<div>\n",
       "<style scoped>\n",
       "    .dataframe tbody tr th:only-of-type {\n",
       "        vertical-align: middle;\n",
       "    }\n",
       "\n",
       "    .dataframe tbody tr th {\n",
       "        vertical-align: top;\n",
       "    }\n",
       "\n",
       "    .dataframe thead th {\n",
       "        text-align: right;\n",
       "    }\n",
       "</style>\n",
       "<table border=\"1\" class=\"dataframe\">\n",
       "  <thead>\n",
       "    <tr style=\"text-align: right;\">\n",
       "      <th></th>\n",
       "      <th>issue_label</th>\n",
       "      <th>level_1</th>\n",
       "      <th>issue_url</th>\n",
       "      <th>issue_created_at</th>\n",
       "      <th>issue_author_association</th>\n",
       "      <th>repository_url</th>\n",
       "      <th>issue_title</th>\n",
       "      <th>issue_body</th>\n",
       "      <th>full_text</th>\n",
       "    </tr>\n",
       "  </thead>\n",
       "  <tbody>\n",
       "    <tr>\n",
       "      <th>0</th>\n",
       "      <td>bug</td>\n",
       "      <td>23149</td>\n",
       "      <td>https://api.github.com/repos/libsdl-org/SDL/is...</td>\n",
       "      <td>2021-02-10T23:25:45Z</td>\n",
       "      <td>COLLABORATOR</td>\n",
       "      <td>https://api.github.com/repos/libsdl-org/SDL</td>\n",
       "      <td>On OSX, an SDL app prevents system shutdown.</td>\n",
       "      <td>\\n# This bug report was migrated from our old ...</td>\n",
       "      <td>On OSX, an SDL app prevents system shutdown._\\...</td>\n",
       "    </tr>\n",
       "    <tr>\n",
       "      <th>1</th>\n",
       "      <td>bug</td>\n",
       "      <td>16717</td>\n",
       "      <td>https://api.github.com/repos/siyuan-note/siyua...</td>\n",
       "      <td>2020-12-14T15:55:25Z</td>\n",
       "      <td>NONE</td>\n",
       "      <td>https://api.github.com/repos/siyuan-note/siyuan</td>\n",
       "      <td>Heading as list item problem</td>\n",
       "      <td>### 描述问题 Describe the problem\\r\\n\\r\\n使用快捷键 `Ct...</td>\n",
       "      <td>Heading as list item problem_### 描述问题 Describe...</td>\n",
       "    </tr>\n",
       "    <tr>\n",
       "      <th>2</th>\n",
       "      <td>bug</td>\n",
       "      <td>10157</td>\n",
       "      <td>https://api.github.com/repos/elastic/beats/iss...</td>\n",
       "      <td>2019-02-02T22:34:08Z</td>\n",
       "      <td>CONTRIBUTOR</td>\n",
       "      <td>https://api.github.com/repos/elastic/beats</td>\n",
       "      <td>build script docker run --network=host does no...</td>\n",
       "      <td>The build script uses the following:\\r\\n\\r\\nlo...</td>\n",
       "      <td>build script docker run --network=host does no...</td>\n",
       "    </tr>\n",
       "    <tr>\n",
       "      <th>3</th>\n",
       "      <td>bug</td>\n",
       "      <td>27561</td>\n",
       "      <td>https://api.github.com/repos/CollaboraOnline/o...</td>\n",
       "      <td>2021-02-08T11:23:22Z</td>\n",
       "      <td>NONE</td>\n",
       "      <td>https://api.github.com/repos/CollaboraOnline/o...</td>\n",
       "      <td>iOS App: Writer, Calc &amp; Impress: comment funct...</td>\n",
       "      <td>**Describe the bug**\\r\\nIf you insert a commen...</td>\n",
       "      <td>iOS App: Writer, Calc &amp; Impress: comment funct...</td>\n",
       "    </tr>\n",
       "    <tr>\n",
       "      <th>4</th>\n",
       "      <td>bug</td>\n",
       "      <td>7458</td>\n",
       "      <td>https://api.github.com/repos/ucfopen/canvasapi...</td>\n",
       "      <td>2021-01-03T18:39:05Z</td>\n",
       "      <td>NONE</td>\n",
       "      <td>https://api.github.com/repos/ucfopen/canvasapi</td>\n",
       "      <td>Favorite object removal does not handle parame...</td>\n",
       "      <td># Describe the bug\\r\\n\\r\\n_Favorite_ objects c...</td>\n",
       "      <td>Favorite object removal does not handle parame...</td>\n",
       "    </tr>\n",
       "  </tbody>\n",
       "</table>\n",
       "</div>"
      ],
      "text/plain": [
       "  issue_label  level_1                                          issue_url  \\\n",
       "0         bug    23149  https://api.github.com/repos/libsdl-org/SDL/is...   \n",
       "1         bug    16717  https://api.github.com/repos/siyuan-note/siyua...   \n",
       "2         bug    10157  https://api.github.com/repos/elastic/beats/iss...   \n",
       "3         bug    27561  https://api.github.com/repos/CollaboraOnline/o...   \n",
       "4         bug     7458  https://api.github.com/repos/ucfopen/canvasapi...   \n",
       "\n",
       "       issue_created_at issue_author_association  \\\n",
       "0  2021-02-10T23:25:45Z             COLLABORATOR   \n",
       "1  2020-12-14T15:55:25Z                     NONE   \n",
       "2  2019-02-02T22:34:08Z              CONTRIBUTOR   \n",
       "3  2021-02-08T11:23:22Z                     NONE   \n",
       "4  2021-01-03T18:39:05Z                     NONE   \n",
       "\n",
       "                                      repository_url  \\\n",
       "0        https://api.github.com/repos/libsdl-org/SDL   \n",
       "1    https://api.github.com/repos/siyuan-note/siyuan   \n",
       "2         https://api.github.com/repos/elastic/beats   \n",
       "3  https://api.github.com/repos/CollaboraOnline/o...   \n",
       "4     https://api.github.com/repos/ucfopen/canvasapi   \n",
       "\n",
       "                                         issue_title  \\\n",
       "0       On OSX, an SDL app prevents system shutdown.   \n",
       "1                       Heading as list item problem   \n",
       "2  build script docker run --network=host does no...   \n",
       "3  iOS App: Writer, Calc & Impress: comment funct...   \n",
       "4  Favorite object removal does not handle parame...   \n",
       "\n",
       "                                          issue_body  \\\n",
       "0  \\n# This bug report was migrated from our old ...   \n",
       "1  ### 描述问题 Describe the problem\\r\\n\\r\\n使用快捷键 `Ct...   \n",
       "2  The build script uses the following:\\r\\n\\r\\nlo...   \n",
       "3  **Describe the bug**\\r\\nIf you insert a commen...   \n",
       "4  # Describe the bug\\r\\n\\r\\n_Favorite_ objects c...   \n",
       "\n",
       "                                           full_text  \n",
       "0  On OSX, an SDL app prevents system shutdown._\\...  \n",
       "1  Heading as list item problem_### 描述问题 Describe...  \n",
       "2  build script docker run --network=host does no...  \n",
       "3  iOS App: Writer, Calc & Impress: comment funct...  \n",
       "4  Favorite object removal does not handle parame...  "
      ]
     },
     "execution_count": 7,
     "metadata": {},
     "output_type": "execute_result"
    }
   ],
   "source": [
    "tmp.head()"
   ]
  },
  {
   "cell_type": "code",
   "execution_count": 8,
   "id": "934581f2-eacf-4063-ace5-8d53a691297d",
   "metadata": {},
   "outputs": [],
   "source": [
    "X = tmp['full_text'].values\n",
    "y = tmp['issue_label'].values"
   ]
  },
  {
   "cell_type": "code",
   "execution_count": 9,
   "id": "316d0ca3-0c40-489e-8d89-e1af78a808db",
   "metadata": {},
   "outputs": [],
   "source": [
    "cv = StratifiedKFold(shuffle=True, random_state=RANDOM_SEED)\n",
    "\n",
    "pipeline = Pipeline(\n",
    "    [\n",
    "        (\"vect\", CountVectorizer()),\n",
    "        (\"tfidf\", TfidfTransformer()),\n",
    "        (\"clf\", RandomForestClassifier()),\n",
    "    ]\n",
    ")"
   ]
  },
  {
   "cell_type": "code",
   "execution_count": 10,
   "id": "3b098bdc",
   "metadata": {},
   "outputs": [],
   "source": [
    "model = pipeline.fit(X,y)"
   ]
  },
  {
   "cell_type": "code",
   "execution_count": 11,
   "id": "66c1c9c7",
   "metadata": {},
   "outputs": [
    {
     "data": {
      "text/plain": [
       "['model1.sav']"
      ]
     },
     "execution_count": 11,
     "metadata": {},
     "output_type": "execute_result"
    }
   ],
   "source": [
    "import joblib\n",
    "joblib.dump(model,'model1.sav')"
   ]
  },
  {
   "cell_type": "code",
   "execution_count": null,
   "id": "1f421fcb-e510-468f-b8c7-e0598e498286",
   "metadata": {},
   "outputs": [],
   "source": [
    "mccs = cross_val_score(pipeline, X, y, scoring='matthews_corrcoef', cv=cv)\n",
    "\n",
    "print('Average mcc:', np.mean(mccs))"
   ]
  },
  {
   "cell_type": "code",
   "execution_count": null,
   "id": "df4d98a7",
   "metadata": {},
   "outputs": [],
   "source": []
  }
 ],
 "metadata": {
  "kernelspec": {
   "display_name": "Python 3 (ipykernel)",
   "language": "python",
   "name": "python3"
  },
  "language_info": {
   "codemirror_mode": {
    "name": "ipython",
    "version": 3
   },
   "file_extension": ".py",
   "mimetype": "text/x-python",
   "name": "python",
   "nbconvert_exporter": "python",
   "pygments_lexer": "ipython3",
   "version": "3.9.13"
  }
 },
 "nbformat": 4,
 "nbformat_minor": 5
}
